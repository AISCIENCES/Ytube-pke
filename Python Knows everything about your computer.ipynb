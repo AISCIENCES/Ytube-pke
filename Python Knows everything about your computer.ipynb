{
 "cells": [
  {
   "cell_type": "code",
   "execution_count": 1,
   "metadata": {},
   "outputs": [],
   "source": [
    "import platform, socket, re, uuid, psutil"
   ]
  },
  {
   "cell_type": "code",
   "execution_count": 19,
   "metadata": {},
   "outputs": [
    {
     "name": "stdout",
     "output_type": "stream",
     "text": [
      "Python Version: 3.8.3\n",
      "Platform: Windows\n",
      "platform-Release: 10\n",
      "platform-Version: 10.0.19041\n",
      "Architect: AMD64\n",
      "HostName: DESKTOP-5TM9PV1\n",
      "ip-address: 192.168.18.214\n",
      "Mac address: 18:db:f2:30:8a:c5\n",
      "Processor: Intel64 Family 6 Model 78 Stepping 3, GenuineIntel\n",
      "RAM: 7.644432067871094 GB\n"
     ]
    }
   ],
   "source": [
    "print(\"Python Version:\", platform.python_version())\n",
    "print(\"Platform:\", platform.system())\n",
    "print(\"platform-Release:\", platform.release())\n",
    "print(\"platform-Version:\", platform.version())\n",
    "print(\"Architect:\", platform.machine())\n",
    "print(\"HostName:\", socket.gethostname())\n",
    "print(\"ip-address:\", socket.gethostbyname(socket.gethostname()))\n",
    "print(\"Mac address:\", \":\".join(re.findall('..', \"%012x\" % uuid.getnode())))\n",
    "print(\"Processor:\", platform.processor())\n",
    "print(\"RAM:\", psutil.virtual_memory().total/(1024.0**3),'GB')"
   ]
  },
  {
   "cell_type": "code",
   "execution_count": null,
   "metadata": {},
   "outputs": [],
   "source": []
  }
 ],
 "metadata": {
  "kernelspec": {
   "display_name": "Python 3",
   "language": "python",
   "name": "python3"
  },
  "language_info": {
   "codemirror_mode": {
    "name": "ipython",
    "version": 3
   },
   "file_extension": ".py",
   "mimetype": "text/x-python",
   "name": "python",
   "nbconvert_exporter": "python",
   "pygments_lexer": "ipython3",
   "version": "3.8.3"
  }
 },
 "nbformat": 4,
 "nbformat_minor": 4
}
